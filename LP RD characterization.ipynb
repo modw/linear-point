{
 "cells": [
  {
   "cell_type": "code",
   "execution_count": 1,
   "metadata": {
    "collapsed": true
   },
   "outputs": [],
   "source": [
    "import pandas as pd\n",
    "import matplotlib.pyplot as plt\n",
    "import matplotlib as mpl\n",
    "import seaborn as sns\n",
    "import numpy as np\n",
    "import matplotlib.pylab as pylab\n",
    "# functions to get LP from cosmology\n",
    "import linear_point as lp\n",
    "# doing cosmological calculations from parameters\n",
    "import camb\n",
    "\n",
    "%matplotlib inline"
   ]
  },
  {
   "cell_type": "code",
   "execution_count": 2,
   "metadata": {
    "collapsed": true
   },
   "outputs": [],
   "source": [
    "# for plots\n",
    "sns.set_style(\"ticks\",\n",
    "             rc = {'axes.grid' : False,\n",
    "                  'grid.linestyle' : 'dashed',\n",
    "                  \"xtick.direction\": \"in\",\"ytick.direction\": \"in\"})\n",
    "\n",
    "sns.set_context('paper', font_scale=1.7)\n",
    "pylab.rcParams['xtick.major.pad']='6'\n",
    "\n",
    "sns.set_palette(\"Set1\")"
   ]
  },
  {
   "cell_type": "code",
   "execution_count": 3,
   "metadata": {
    "collapsed": true
   },
   "outputs": [],
   "source": [
    "# creanting instance of CAMBparams object\n",
    "pars = camb.CAMBparams()\n",
    "# krange\n",
    "kmin = 0.001\n",
    "kmax = 10."
   ]
  },
  {
   "cell_type": "code",
   "execution_count": 4,
   "metadata": {},
   "outputs": [],
   "source": [
    "# fiducial TT,TE,EE + lowP\n",
    "ombh2_fid=0.02225\n",
    "omch2_fid=0.1198\n",
    "h_fid = 0.6790\n",
    "tau_fid = 0.079\n",
    "ns_fid=0.9645\n",
    "As_fid=2.207e-9\n",
    "# sigmas\n",
    "ombh2_sig = 0.00016\n",
    "omch2_sig = 0.0015\n",
    "ns_sig = 0.0049"
   ]
  },
  {
   "cell_type": "code",
   "execution_count": 5,
   "metadata": {},
   "outputs": [],
   "source": [
    "def get_results(pars, z=0, ombh2 = ombh2_fid, omch2 = omch2_fid,\n",
    "                h = h_fid, tau = tau_fid, As = As_fid, ns = ns_fid):\n",
    "    pars.set_cosmology(ombh2=ombh2,\n",
    "                       omch2 =omch2,\n",
    "                       H0=100*h,\n",
    "                       tau=tau)\n",
    "    pars.InitPower.set_params(ns=ns,\n",
    "                              As=As)\n",
    "    pars.set_matter_power(\n",
    "        redshifts=[z], kmax=kmax, nonlinear=False, k_per_logint=0)\n",
    "    return camb.get_results(pars)\n",
    "\n",
    "def get_lp(results, kmin=kmin, kmax=kmax):\n",
    "    dip, peak = lp.lp_from_cosmo_mpc(results, kmin, kmax)\n",
    "    return (dip+peak)/2\n",
    "\n",
    "def get_rd(results):\n",
    "    return results.get_derived_params()['rdrag']\n",
    "\n",
    "def get_lp_rd_ratio(results):\n",
    "    lp = get_lp(results)\n",
    "    rd = get_rd(results)\n",
    "    return lp/rd"
   ]
  },
  {
   "cell_type": "code",
   "execution_count": 6,
   "metadata": {},
   "outputs": [
    {
     "name": "stdout",
     "output_type": "stream",
     "text": [
      "lp_fid:138.24 , rd_fid:147.28\n"
     ]
    }
   ],
   "source": [
    "# fiducial\n",
    "results = get_results(pars)\n",
    "lp_fid = get_lp(results)\n",
    "rd_fid = get_rd(results)\n",
    "print(\"lp_fid:{:.2f} , rd_fid:{:.2f}\".format(lp_fid, rd_fid))"
   ]
  },
  {
   "cell_type": "code",
   "execution_count": 7,
   "metadata": {},
   "outputs": [],
   "source": [
    "# for parameter exploration\n",
    "steps = 100\n",
    "sigma_range = 10\n",
    "# getting values\n",
    "ombh2_vals = np.linspace(ombh2_fid - sigma_range*ombh2_sig,\n",
    "                         ombh2_fid + sigma_range*ombh2_sig, steps)\n",
    "\n",
    "omch2_vals = np.linspace(omch2_fid - sigma_range*omch2_sig,\n",
    "                         omch2_fid + sigma_range*omch2_sig, steps)\n",
    "\n",
    "ns_vals = np.linspace(ns_fid - sigma_range*ns_sig,\n",
    "                         ns_fid + sigma_range*ns_sig, steps)"
   ]
  },
  {
   "cell_type": "code",
   "execution_count": 8,
   "metadata": {},
   "outputs": [
    {
     "name": "stdout",
     "output_type": "stream",
     "text": [
      "Done with ombh2\n",
      "Done with omch2\n",
      "Broke when ns=1.012510101010101\n",
      "Done with ns\n"
     ]
    }
   ],
   "source": [
    "# getting results\n",
    "#ombh2\n",
    "df_ombh2 = pd.DataFrame(columns=['ombh2','lp','rd'])\n",
    "\n",
    "for i, ombh2 in enumerate(ombh2_vals):\n",
    "    results = get_results(pars, ombh2 = ombh2)\n",
    "    df_ombh2.loc[i] = [ombh2, get_lp(results), get_rd(results)]\n",
    "    \n",
    "print(\"Done with ombh2\")\n",
    "#ombh2\n",
    "df_omch2 = pd.DataFrame(columns=['omch2','lp','rd'])\n",
    "\n",
    "for i, omch2 in enumerate(omch2_vals):\n",
    "    results = get_results(pars, omch2 = omch2)\n",
    "    df_omch2.loc[i] = [omch2, get_lp(results), get_rd(results)]\n",
    "\n",
    "print(\"Done with omch2\")\n",
    "#ombh2\n",
    "df_ns = pd.DataFrame(columns=['ns','lp','rd'])\n",
    "\n",
    "for i, ns in enumerate(ns_vals):\n",
    "    results = get_results(pars, ns = ns)\n",
    "    try:\n",
    "        df_ns.loc[i] = [ns, get_lp(results), get_rd(results)]\n",
    "    except:\n",
    "        print(\"Broke when ns={}\".format(ns))\n",
    "        df_ns.loc[i] = np.nan\n",
    "    \n",
    "print(\"Done with ns\")"
   ]
  },
  {
   "cell_type": "code",
   "execution_count": 9,
   "metadata": {},
   "outputs": [],
   "source": [
    "df_ombh2.to_pickle('./output/lp_rd/df_ombh2.pkl')\n",
    "df_omch2.to_pickle('./output/lp_rd/df_omch2.pkl')\n",
    "df_ns.to_pickle('./output/lp_rd/df_ns.pkl')"
   ]
  },
  {
   "cell_type": "markdown",
   "metadata": {},
   "source": [
    "##  plotting r/rfid"
   ]
  },
  {
   "cell_type": "code",
   "execution_count": null,
   "metadata": {},
   "outputs": [],
   "source": [
    "df_ombh2 = pd.read_pickle('./output/lp_rd/df_ombh2.pkl')\n",
    "df_omch2 = pd.read_pickle('./output/lp_rd/df_omch2.pkl')\n",
    "df_ns = pd.read_pickle('./output/lp_rd/df_ns.pkl')"
   ]
  },
  {
   "cell_type": "code",
   "execution_count": null,
   "metadata": {},
   "outputs": [],
   "source": [
    "fig, [ax1,ax2,ax3] = plt.subplots(1,3,figsize=(16,4), sharey=False)\n",
    "axes = [ax1, ax2, ax3]\n",
    "# ax1\n",
    "df = df_ombh2.copy()\n",
    "ax1.plot(df.iloc[:,0], df.loc[:,'lp']/lp_fid, label='r linear point')\n",
    "ax1.plot(df.iloc[:,0], df.loc[:,'rd']/rd_fid, label='r drag')\n",
    "ax1.set_xlabel(df.columns[0])\n",
    "ax1.set_ylabel(r'$r/r_{fid}$')\n",
    "\n",
    "# ax2\n",
    "df = df_omch2.copy()\n",
    "ax2.plot(df.iloc[:,0], df.loc[:,'lp']/lp_fid, label='r linear point')\n",
    "ax2.plot(df.iloc[:,0], df.loc[:,'rd']/rd_fid, label='r drag')\n",
    "ax2.set_xlabel(df.columns[0])\n",
    "ax2.set_ylabel(r'$r/r_{fid}$')\n",
    "\n",
    "# ax2\n",
    "df = df_ns.copy()\n",
    "ax3.plot(df.iloc[:,0], df.loc[:,'lp']/lp_fid, label='r linear point')\n",
    "ax3.plot(df.iloc[:,0], df.loc[:,'rd']/rd_fid, label='r drag')\n",
    "ax3.set_xlabel(df.columns[0])\n",
    "ax3.set_ylabel(r'$r/r_{fid}$')\n",
    "\n",
    "# legend\n",
    "ax1.legend(loc='best',ncol=2,frameon=False, bbox_to_anchor=(2.9, 1.2))\n",
    "\n",
    "#\n",
    "plt.subplots_adjust(wspace=0.5)\n",
    "\n",
    "#ax3.set_ylim(0.9985,1.0015)\n",
    "#ax3.set_yticks([0.999, 1.000, 1.001])\n",
    "\n",
    "\n",
    "# plt.savefig('./Figures/lp_rd/r_over_r_fid_lp_and_rdrag.pdf', dpi=200,\n",
    "#            bbox_inches='tight')\n",
    "plt.show()"
   ]
  },
  {
   "cell_type": "markdown",
   "metadata": {},
   "source": [
    "## plotting r_lp/r_drag"
   ]
  },
  {
   "cell_type": "code",
   "execution_count": null,
   "metadata": {},
   "outputs": [],
   "source": [
    "fig, [ax1,ax2,ax3] = plt.subplots(1,3,figsize=(14,4), sharey=True)\n",
    "axes = [ax1, ax2, ax3]\n",
    "factor = rd_fid/lp_fid\n",
    "# ax1\n",
    "df = df_ombh2.copy()\n",
    "ax1.plot(df.iloc[:,0], factor*df.loc[:,'lp']/df.loc[:,'rd'],'k')\n",
    "ax1.set_xlabel(df.columns[0])\n",
    "ax1.set_ylabel(r'normalized $r_{lp}/r_{d}$') # update label - normalized ratio now\n",
    "\n",
    "# ax2\n",
    "df = df_omch2.copy()\n",
    "ax2.plot(df.iloc[:,0], factor*df.loc[:,'lp']/df.loc[:,'rd'],'k')\n",
    "ax2.set_xlabel(df.columns[0])\n",
    "#ax2.set_ylabel(r'$r/r_{fid}$')\n",
    "\n",
    "# ax2\n",
    "df = df_ns.copy()\n",
    "ax3.plot(df.iloc[:,0], factor*df.loc[:,'lp']/df.loc[:,'rd'],'k')\n",
    "ax3.set_xlabel(df.columns[0])\n",
    "#ax3.set_ylabel(r'$r/r_{fid}$')\n",
    "\n",
    "#\n",
    "plt.subplots_adjust(wspace=0.1)\n",
    "\n",
    "# plt.savefig('./Figures/lp_rd/rlp_over_rdrag.pdf', dpi=200,\n",
    "#            bbox_inches='tight')\n",
    "\n",
    "plt.show()"
   ]
  },
  {
   "cell_type": "code",
   "execution_count": null,
   "metadata": {},
   "outputs": [],
   "source": [
    "plt.plot(df_ombh2.ombh2, df_ombh2.lp/lp_fid)\n",
    "plt.plot(df_ombh2.ombh2, df_ombh2.rd/rd_fid)\n",
    "plt.xlim(0.0216,0.022)\n",
    "plt.ylim(bottom=1.004,top=1.008)\n",
    "plt.show()"
   ]
  },
  {
   "cell_type": "code",
   "execution_count": null,
   "metadata": {},
   "outputs": [],
   "source": []
  }
 ],
 "metadata": {
  "kernelspec": {
   "display_name": "Python 3",
   "language": "python",
   "name": "python3"
  },
  "language_info": {
   "codemirror_mode": {
    "name": "ipython",
    "version": 3
   },
   "file_extension": ".py",
   "mimetype": "text/x-python",
   "name": "python",
   "nbconvert_exporter": "python",
   "pygments_lexer": "ipython3",
   "version": "3.6.6"
  }
 },
 "nbformat": 4,
 "nbformat_minor": 2
}
