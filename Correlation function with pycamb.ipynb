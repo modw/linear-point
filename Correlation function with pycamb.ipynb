{
 "cells": [
  {
   "cell_type": "markdown",
   "metadata": {},
   "source": [
    "# Outdated - see .py file"
   ]
  },
  {
   "cell_type": "code",
   "execution_count": 1,
   "metadata": {
    "collapsed": true
   },
   "outputs": [],
   "source": [
    "import numpy as np\n",
    "import matplotlib.pyplot as plt\n",
    "import pandas as pd\n",
    "from scipy import interpolate\n",
    "from scipy.integrate import quad\n",
    "import camb\n",
    "from scipy.optimize import brentq\n",
    "from scipy.interpolate import CubicSpline\n",
    "\n",
    "%matplotlib inline"
   ]
  },
  {
   "cell_type": "code",
   "execution_count": 2,
   "metadata": {
    "collapsed": true
   },
   "outputs": [],
   "source": [
    "# for plots\n",
    "import seaborn as sns\n",
    "sns.set_style(\"ticks\", {'axes.grid': True, 'grid.linestyle': '--'})\n",
    "sns.set_context(\"poster\")\n",
    "sns.set_palette(\"Set2\")"
   ]
  },
  {
   "cell_type": "code",
   "execution_count": 3,
   "metadata": {
    "collapsed": true
   },
   "outputs": [],
   "source": [
    "# cosmology\n",
    "pars = camb.CAMBparams()"
   ]
  },
  {
   "cell_type": "code",
   "execution_count": 4,
   "metadata": {
    "collapsed": true
   },
   "outputs": [],
   "source": [
    "# planck 2015 TT,TE,EE+lowP\n",
    "# https://www.aanda.org/articles/aa/full_html/2016/10/aa25830-15/aa25830-15.html\n",
    "pars.set_cosmology(ombh2=0.02225, \n",
    "                   omch2=0.1198,\n",
    "                   cosmomc_theta=1.04077/100,\n",
    "                   H0 = None,\n",
    "                   tau = 0.079)\n",
    "\n",
    "pars.InitPower.set_params(ns=0.9645,\n",
    "                          As=2.207e-9)\n",
    "\n",
    "pars.set_matter_power(redshifts=[0.0], kmax=10., nonlinear=False, k_per_logint=0)\n",
    "\n",
    "#results\n",
    "results = camb.get_results(pars)"
   ]
  },
  {
   "cell_type": "code",
   "execution_count": 5,
   "metadata": {},
   "outputs": [],
   "source": [
    "h = results.hubble_parameter(0)/100"
   ]
  },
  {
   "cell_type": "code",
   "execution_count": 16,
   "metadata": {},
   "outputs": [],
   "source": [
    "df = pd.DataFrame(np.ones((3,3)))"
   ]
  },
  {
   "cell_type": "code",
   "execution_count": 17,
   "metadata": {},
   "outputs": [
    {
     "data": {
      "text/html": [
       "<div>\n",
       "<style scoped>\n",
       "    .dataframe tbody tr th:only-of-type {\n",
       "        vertical-align: middle;\n",
       "    }\n",
       "\n",
       "    .dataframe tbody tr th {\n",
       "        vertical-align: top;\n",
       "    }\n",
       "\n",
       "    .dataframe thead th {\n",
       "        text-align: right;\n",
       "    }\n",
       "</style>\n",
       "<table border=\"1\" class=\"dataframe\">\n",
       "  <thead>\n",
       "    <tr style=\"text-align: right;\">\n",
       "      <th></th>\n",
       "      <th>0</th>\n",
       "      <th>1</th>\n",
       "      <th>2</th>\n",
       "    </tr>\n",
       "  </thead>\n",
       "  <tbody>\n",
       "    <tr>\n",
       "      <th>0</th>\n",
       "      <td>1.0</td>\n",
       "      <td>1.0</td>\n",
       "      <td>1.0</td>\n",
       "    </tr>\n",
       "    <tr>\n",
       "      <th>1</th>\n",
       "      <td>1.0</td>\n",
       "      <td>1.0</td>\n",
       "      <td>1.0</td>\n",
       "    </tr>\n",
       "    <tr>\n",
       "      <th>2</th>\n",
       "      <td>1.0</td>\n",
       "      <td>1.0</td>\n",
       "      <td>1.0</td>\n",
       "    </tr>\n",
       "  </tbody>\n",
       "</table>\n",
       "</div>"
      ],
      "text/plain": [
       "     0    1    2\n",
       "0  1.0  1.0  1.0\n",
       "1  1.0  1.0  1.0\n",
       "2  1.0  1.0  1.0"
      ]
     },
     "execution_count": 17,
     "metadata": {},
     "output_type": "execute_result"
    }
   ],
   "source": [
    "df"
   ]
  },
  {
   "cell_type": "code",
   "execution_count": 22,
   "metadata": {},
   "outputs": [],
   "source": [
    "try:\n",
    "    df.iloc[1,[1,2]] = 2, 3/0\n",
    "except:\n",
    "    df.iloc[1,[1,2]] = np.nan, np.nan"
   ]
  },
  {
   "cell_type": "code",
   "execution_count": 26,
   "metadata": {},
   "outputs": [
    {
     "data": {
      "text/plain": [
       "0    1.0\n",
       "1    NaN\n",
       "2    1.0\n",
       "dtype: float64"
      ]
     },
     "execution_count": 26,
     "metadata": {},
     "output_type": "execute_result"
    }
   ],
   "source": [
    "(df[1] + df[2])/2"
   ]
  },
  {
   "cell_type": "code",
   "execution_count": 5,
   "metadata": {
    "collapsed": true
   },
   "outputs": [],
   "source": [
    "# use these two lines to compare with Planck derived parameters (Table 4 of 2015 parameters\n",
    "# paper)\n",
    "# results.get_derived_params()\n",
    "# results.get_sigma8()"
   ]
  },
  {
   "cell_type": "code",
   "execution_count": 50,
   "metadata": {
    "collapsed": true
   },
   "outputs": [
    {
     "name": "stderr",
     "output_type": "stream",
     "text": [
      "WARNING:root:get_matter_power_spectrum using larger k_max than input parameter Transfer.kmax\n"
     ]
    }
   ],
   "source": [
    "# linear matter power spectrum\n",
    "kmin = 0.001\n",
    "kmax = 10.\n",
    "# multiplicative factors to make sure the region between kmin and kmax is properly interpolated\n",
    "kh, z, [pk] = results.get_matter_power_spectrum(minkh=kmin*0.99, maxkh=kmax*1.001,npoints=1000)\n",
    "k = kh*h\n",
    "# creating a P(k) function by interpolating camb output\n",
    "pk_func = interpolate.interp1d(k, pk, kind='cubic')"
   ]
  },
  {
   "cell_type": "code",
   "execution_count": 51,
   "metadata": {
    "collapsed": false
   },
   "outputs": [
    {
     "data": {
      "image/png": "[encoded data removed]",
      "text/plain": [
       "<matplotlib.figure.Figure at 0x7f4b00fa5470>"
      ]
     },
     "metadata": {},
     "output_type": "display_data"
    }
   ],
   "source": [
    "plt.loglog(k, pk_func(k))\n",
    "plt.xlim(kmin,kmax)\n",
    "plt.show()"
   ]
  },
  {
   "cell_type": "code",
   "execution_count": 52,
   "metadata": {
    "collapsed": true
   },
   "outputs": [],
   "source": [
    "# correlation function and its derivative given kmin, kmax and P(k)\n",
    "\n",
    "# np.exp(-k**4) : smoothing kernel to regularize function for the transition k > 1\n",
    "\n",
    "# correlation function\n",
    "def xi(r,kmin=kmin,kmax=kmax,pk=pk_func):\n",
    "    \"\"\"Two point correlation function for r.\n",
    "    - pars\n",
    "    r: float, correlation scale in real space\n",
    "    kmin, kmax: floats, min and max of k range\n",
    "    pk: function object, power spectrum as function of k, P(k)\n",
    "    - returns\n",
    "    xi(r): float, value of correlation func at r\"\"\"\n",
    "    # sin is omitted in the integrand because its being weighted in quad\n",
    "    int_ = lambda k: np.exp(-k**4) * k**2 * pk(k)/(2*(np.pi**2)*k*r)\n",
    "    xir =  quad(int_,kmin, kmax,weight='sin', wvar=r)\n",
    "    return xir[0]\n",
    "\n",
    "# first derivative of correlation function\n",
    "def xi_r(r,kmin=kmin,kmax=kmax,pk=pk_func):\n",
    "    \"\"\"First derivative of two point correlation function.\n",
    "    - pars\n",
    "    r: float, correlation scale in real space\n",
    "    kmin, kmax: floats, min and max of k range\n",
    "    pk: function object, power spectrum as function of k, P(k)\n",
    "    - returns\n",
    "    xi_r(r): float, value of first derivative of correlation func at r\"\"\"\n",
    "    # sin and cos are omitted in the integrand because they're being weighted in quad\n",
    "    int_a = lambda k: k**2 * np.exp(-k**4) * pk(k)/(2*(np.pi**2)*r)\n",
    "    int_b = lambda k: -1*k**2 * np.exp(-k**4) * pk(k)/(2*(np.pi**2)*k*r**2)\n",
    "    xi_r_a =  quad(int_a,kmin, kmax,weight='cos', wvar=r)\n",
    "    xi_r_b =  quad(int_b,kmin, kmax,weight='sin', wvar=r)\n",
    "    return xi_r_a[0]+xi_r_b[0]"
   ]
  },
  {
   "cell_type": "code",
   "execution_count": 53,
   "metadata": {
    "collapsed": true
   },
   "outputs": [],
   "source": [
    "# dip and peak positions given first derivative of correlation function\n",
    "def get_lp(xi_r, rmin=70., rmax=120., rsamples=8, root_dr = 3.):\n",
    "    \"\"\"Given first derivative of matter correlation function, get position of\n",
    "    dip and peak.\n",
    "    - pars\n",
    "    xi_r: function object, first derivative of xi(r)\n",
    "    rmin, rmax: floats, range to which look for roots\n",
    "    rsamples: int, derivative sampled evenly in rsamples parts in range given\n",
    "    root_dr: float, interval around each root to do a finer search with brentq\n",
    "    - returns\n",
    "    dip, peak: float, position of dip and peak of correlation function\"\"\"\n",
    "    # sample derivative in rsamples points and interpolate\n",
    "    r_list = np.linspace(rmin, rmax, rsamples)\n",
    "    xi_r_list = [xi_r(r) for r in r_list]\n",
    "    xi_r_interp = CubicSpline(r_list,xi_r_list, extrapolate=False)\n",
    "    # find roots of interpolated function\n",
    "    roots = xi_r_interp.roots(extrapolate=False)\n",
    "    # defined region to look for each root in derivative\n",
    "    ra=(roots[0]-root_dr,roots[0]+root_dr)\n",
    "    rb=(roots[1]-root_dr,roots[1]+root_dr)\n",
    "    # find each root and return\n",
    "    dip = brentq(xi_r,*ra)\n",
    "    peak = brentq(xi_r,*rb)\n",
    "    return dip, peak"
   ]
  },
  {
   "cell_type": "code",
   "execution_count": 54,
   "metadata": {
    "collapsed": true
   },
   "outputs": [],
   "source": [
    "# Linear point position given first derivative of correlation function\n",
    "def get_lp_old(xi_r, ra=(82.,90.), rb=(97.,105.)):\n",
    "    \"\"\"Given first derivative of matter correlation function, get position of\n",
    "    dip and peak.\n",
    "    - pars\n",
    "    xi_r: function object, first derivative of xi(r)\n",
    "    ra, rb: sets of floats, range of to look for dip and peak, respectively\n",
    "    - returns\n",
    "    lp: float, position of linear point\"\"\"\n",
    "    dip = brentq(xi_r,*ra)\n",
    "    peak = brentq(xi_r,*rb)\n",
    "    return dip, peak"
   ]
  },
  {
   "cell_type": "code",
   "execution_count": 55,
   "metadata": {
    "collapsed": true
   },
   "outputs": [],
   "source": [
    "# Getting LP straigh from CAMB's results object"
   ]
  },
  {
   "cell_type": "code",
   "execution_count": 56,
   "metadata": {
    "collapsed": true
   },
   "outputs": [],
   "source": [
    "def get_pk_func(results,kmin,kmax):\n",
    "    \"\"\"Given cambs results object, calculate power spectrum as function of k.\n",
    "    - pars\n",
    "    results: camb's results object\n",
    "    kmin, kmax: floats, limits in k space\"\"\"\n",
    "    kh, z, [pk] = results.get_matter_power_spectrum(minkh=kmin*0.99,\n",
    "                                                    maxkh=kmax*1.001,\n",
    "                                                    npoints=500)\n",
    "    return interpolate.interp1d(kh, pk, kind='cubic')"
   ]
  },
  {
   "cell_type": "code",
   "execution_count": 57,
   "metadata": {
    "collapsed": true
   },
   "outputs": [],
   "source": [
    "def lp_from_cosmo(results, kmin=0.001, kmax=100.):\n",
    "    \"\"\"Given cambs results object, calculate position of linear point.\n",
    "    - pars\n",
    "    results: camb's results object\n",
    "    kmin, kmax: floats, limits in k space\"\"\"\n",
    "    pk_func = get_pk_func(results, kmin, kmax)\n",
    "    dxi_dr = lambda r: xi_r(r, kmin, kmax, pk_func)\n",
    "    lp = get_lp(dxi_dr)\n",
    "    return lp"
   ]
  },
  {
   "cell_type": "code",
   "execution_count": 58,
   "metadata": {
    "collapsed": true
   },
   "outputs": [],
   "source": [
    "from scipy.misc import derivative"
   ]
  },
  {
   "cell_type": "code",
   "execution_count": 69,
   "metadata": {},
   "outputs": [
    {
     "data": {
      "text/plain": [
       "0.000277988519860732"
      ]
     },
     "execution_count": 69,
     "metadata": {},
     "output_type": "execute_result"
    }
   ],
   "source": [
    "xi(120,kmin*h,kmax*h)"
   ]
  },
  {
   "cell_type": "code",
   "execution_count": 73,
   "metadata": {
    "collapsed": false
   },
   "outputs": [
    {
     "name": "stderr",
     "output_type": "stream",
     "text": [
      "WARNING:matplotlib.legend:No handles with labels found to put in legend.\n"
     ]
    },
    {
     "data": {
      "image/png": "[encoded data removed]",
      "text/plain": [
       "<matplotlib.figure.Figure at 0x7f4b00662438>"
      ]
     },
     "metadata": {},
     "output_type": "display_data"
    }
   ],
   "source": [
    "fig, ax1 = plt.subplots()\n",
    "\n",
    "r = np.linspace(120,155,20)\n",
    "xi_list = [xi(i,kmin*h,kmax*h) for i in r]\n",
    "xi_r_list = [xi_r(i,kmin*h,kmax*h) for i in r]\n",
    "### xi(r)\n",
    "\n",
    "\n",
    "ax1.plot(r, xi_list)\n",
    "ax1.set_xlim(r.min(),r.max())\n",
    "\n",
    "ax1.set_ylabel(r'$\\xi(r)$',color='C0')\n",
    "ax1.set_xlabel(r'r (${\\rm Mpc}/h$)')\n",
    "\n",
    "### x'(r)\n",
    "ax2 = ax1.twinx()\n",
    "ax2.plot(r, xi_r_list,c='C1',ls='dashed')\n",
    "#ax2.plot(r, derivative(xi,r),c='C2',ls='dotted',lw=10,alpha=0.5)\n",
    "ax2.axhline(y=0,color='k',lw=2)\n",
    "ax2.set_ylabel(r'$\\xi\\'(r)$',color='C1')\n",
    "ax2.grid()\n",
    "# plt.savefig('Figures/xi_r.png', dpi=300, bbox_inches='tight',\n",
    "#            facecolor='w', edgecolor='w')\n",
    "\n",
    "\n",
    "# linear point\n",
    "# dip, peak = get_lp(xi_r)# Linear point position given first derivative of correlation function\n",
    "# lp = (dip+peak)/2\n",
    "# ax1.plot(lp,xi(lp),'s',color='magenta',alpha=0.5, label = 'LP')\n",
    "\n",
    "ax1.legend()\n",
    "plt.show()"
   ]
  },
  {
   "cell_type": "code",
   "execution_count": 41,
   "metadata": {},
   "outputs": [
    {
     "data": {
      "text/plain": [
       "138.2279208032575"
      ]
     },
     "execution_count": 41,
     "metadata": {},
     "output_type": "execute_result"
    }
   ],
   "source": [
    "lp/h"
   ]
  },
  {
   "cell_type": "markdown",
   "metadata": {},
   "source": [
    "### Testing lp_from_pl func"
   ]
  },
  {
   "cell_type": "code",
   "execution_count": 5,
   "metadata": {
    "collapsed": false
   },
   "outputs": [
    {
     "ename": "NameError",
     "evalue": "name 'lp_from_cosmo' is not defined",
     "output_type": "error",
     "traceback": [
      "\u001b[1;31m---------------------------------------------------------------------------\u001b[0m",
      "\u001b[1;31mNameError\u001b[0m                                 Traceback (most recent call last)",
      "\u001b[1;32m<ipython-input-5-b196e0cdd7be>\u001b[0m in \u001b[0;36m<module>\u001b[1;34m()\u001b[0m\n\u001b[1;32m----> 1\u001b[1;33m \u001b[0mlp_from_cosmo\u001b[0m\u001b[1;33m(\u001b[0m\u001b[0mresults\u001b[0m\u001b[1;33m)\u001b[0m\u001b[1;33m\u001b[0m\u001b[0m\n\u001b[0m",
      "\u001b[1;31mNameError\u001b[0m: name 'lp_from_cosmo' is not defined"
     ]
    }
   ],
   "source": [
    "lp_from_cosmo(results)"
   ]
  },
  {
   "cell_type": "code",
   "execution_count": 196,
   "metadata": {
    "collapsed": false
   },
   "outputs": [
    {
     "name": "stdout",
     "output_type": "stream",
     "text": [
      "1 loop, best of 3: 1.78 s per loop\n"
     ]
    }
   ],
   "source": [
    "%%timeit\n",
    "lp_from_cosmo(results)"
   ]
  },
  {
   "cell_type": "code",
   "execution_count": 6,
   "metadata": {
    "collapsed": true
   },
   "outputs": [],
   "source": [
    "import linear_point as lp"
   ]
  },
  {
   "cell_type": "code",
   "execution_count": 7,
   "metadata": {
    "collapsed": false
   },
   "outputs": [
    {
     "data": {
      "text/plain": [
       "(85.85873876682864, 100.1343458368531)"
      ]
     },
     "execution_count": 7,
     "metadata": {},
     "output_type": "execute_result"
    }
   ],
   "source": [
    "lp.lp_from_cosmo(results)"
   ]
  }
 ],
 "metadata": {
  "anaconda-cloud": {},
  "kernelspec": {
   "display_name": "Python 3",
   "language": "python",
   "name": "python3"
  },
  "language_info": {
   "codemirror_mode": {
    "name": "ipython",
    "version": 3
   },
   "file_extension": ".py",
   "mimetype": "text/x-python",
   "name": "python",
   "nbconvert_exporter": "python",
   "pygments_lexer": "ipython3",
   "version": "3.6.5"
  }
 },
 "nbformat": 4,
 "nbformat_minor": 2
}
